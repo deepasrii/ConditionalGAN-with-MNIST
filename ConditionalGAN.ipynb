{
  "cells": [
    {
      "cell_type": "code",
      "execution_count": 1,
      "metadata": {
        "colab": {
          "base_uri": "https://localhost:8080/"
        },
        "id": "sr3KYBxl5U-C",
        "outputId": "af8f26ed-add1-4692-98f9-790266bd8512"
      },
      "outputs": [
        {
          "output_type": "stream",
          "name": "stdout",
          "text": [
            "  Building wheel for tensorflow-docs (setup.py) ... \u001b[?25l\u001b[?25hdone\n"
          ]
        }
      ],
      "source": [
        "!pip install -q git+https://github.com/tensorflow/docs"
      ]
    },
    {
      "cell_type": "code",
      "execution_count": 11,
      "metadata": {
        "id": "1jBeJQxN5oZZ"
      },
      "outputs": [],
      "source": [
        "import tensorflow as tf\n",
        "gpus = tf.config.experimental.list_physical_devices('GPU')\n",
        "for gpu in gpus: \n",
        "    tf.config.experimental.set_memory_growth(gpu, True)"
      ]
    },
    {
      "cell_type": "code",
      "execution_count": 12,
      "metadata": {
        "id": "VUo-QuMg5rEs",
        "colab": {
          "base_uri": "https://localhost:8080/"
        },
        "outputId": "d291f984-1a2e-44ff-d1c5-cd99f57bdf3d"
      },
      "outputs": [
        {
          "output_type": "stream",
          "name": "stdout",
          "text": [
            "PhysicalDevice(name='/physical_device:GPU:0', device_type='GPU')\n"
          ]
        }
      ],
      "source": [
        "for gpu in gpus:\n",
        "  print(gpu)"
      ]
    },
    {
      "cell_type": "markdown",
      "source": [
        "Import Depencies"
      ],
      "metadata": {
        "id": "y2jr_U6Q79W4"
      }
    },
    {
      "cell_type": "code",
      "execution_count": 13,
      "metadata": {
        "id": "ku6jH9EU5u6p"
      },
      "outputs": [],
      "source": [
        "from tensorflow import keras\n",
        "from tensorflow.keras import layers\n",
        "\n",
        "from tensorflow_docs.vis import embed\n",
        "import matplotlib.pyplot as plt\n",
        "import tensorflow as tf\n",
        "import numpy as np\n",
        "import imageio"
      ]
    },
    {
      "cell_type": "code",
      "execution_count": 14,
      "metadata": {
        "id": "_osdPuUr50hl"
      },
      "outputs": [],
      "source": [
        "# Hyperparameters\n",
        "batch_size = 64\n",
        "num_channels = 1\n",
        "num_classes = 10\n",
        "image_size = 28\n",
        "latent_dim = 128"
      ]
    },
    {
      "cell_type": "markdown",
      "source": [
        "**Loading and preprocessing the dataset**"
      ],
      "metadata": {
        "id": "iVNzN2vr7v9w"
      }
    },
    {
      "cell_type": "code",
      "execution_count": 15,
      "metadata": {
        "colab": {
          "base_uri": "https://localhost:8080/"
        },
        "id": "KA4wXKIP5208",
        "outputId": "18d50887-87f3-42da-c711-e72e3a090fd0"
      },
      "outputs": [
        {
          "output_type": "stream",
          "name": "stdout",
          "text": [
            "Shape of training images: (70000, 28, 28, 1)\n",
            "Shape of training labels: (70000, 10)\n"
          ]
        }
      ],
      "source": [
        "(x_train, y_train), (x_test, y_test) = keras.datasets.mnist.load_data()\n",
        "all_digits = np.concatenate([x_train, x_test])\n",
        "all_labels = np.concatenate([y_train, y_test])\n",
        "\n",
        "# Scale the pixel values to [0, 1] range, add a channel dimension to\n",
        "# the images, and one-hot encode the labels.\n",
        "all_digits = all_digits.astype(\"float32\") / 255.0\n",
        "all_digits = np.reshape(all_digits, (-1, 28, 28, 1))\n",
        "all_labels = keras.utils.to_categorical(all_labels, 10)\n",
        "\n",
        "# Create tf.data.Dataset.\n",
        "dataset = tf.data.Dataset.from_tensor_slices((all_digits, all_labels))\n",
        "dataset = dataset.shuffle(buffer_size=1024).batch(batch_size)\n",
        "\n",
        "print(f\"Shape of training images: {all_digits.shape}\")\n",
        "print(f\"Shape of training labels: {all_labels.shape}\")"
      ]
    },
    {
      "cell_type": "code",
      "execution_count": 16,
      "metadata": {
        "colab": {
          "base_uri": "https://localhost:8080/"
        },
        "id": "uSUphIwo55-Z",
        "outputId": "5088ef14-8595-4a5b-8a4d-cc56c68e75bb"
      },
      "outputs": [
        {
          "output_type": "stream",
          "name": "stdout",
          "text": [
            "138 11\n"
          ]
        }
      ],
      "source": [
        "# Calculate number of input channel for the generator and discriminator\n",
        "generator_in_channels = latent_dim + num_classes\n",
        "discriminator_in_channels = num_channels + num_classes\n",
        "print(generator_in_channels, discriminator_in_channels)"
      ]
    },
    {
      "cell_type": "markdown",
      "source": [
        "Build Neural Network for discriminator and generator"
      ],
      "metadata": {
        "id": "EpGCOg8C7mMR"
      }
    },
    {
      "cell_type": "code",
      "execution_count": 17,
      "metadata": {
        "id": "KUfMSEj158vz"
      },
      "outputs": [],
      "source": [
        "# Create the discriminator.\n",
        "discriminator = keras.Sequential(\n",
        "    [\n",
        "        keras.layers.InputLayer((28, 28, discriminator_in_channels)),\n",
        "        layers.Conv2D(64, (3, 3), strides=(2, 2), padding=\"same\"),\n",
        "        layers.LeakyReLU(alpha=0.2),\n",
        "        layers.Conv2D(128, (3, 3), strides=(2, 2), padding=\"same\"),\n",
        "        layers.LeakyReLU(alpha=0.2),\n",
        "        layers.GlobalMaxPooling2D(),\n",
        "        layers.Dense(1),\n",
        "    ],\n",
        "    name=\"discriminator\",\n",
        ")\n",
        "\n",
        "# Create the generator.\n",
        "generator = keras.Sequential(\n",
        "    [\n",
        "        keras.layers.InputLayer((generator_in_channels,)),\n",
        "        # We want to generate 128 + num_classes coefficients to reshape into a\n",
        "        # 7x7x(128 + num_classes) map.\n",
        "        layers.Dense(7 * 7 * generator_in_channels),\n",
        "        layers.LeakyReLU(alpha=0.2),\n",
        "        layers.Reshape((7, 7, generator_in_channels)),\n",
        "        layers.Conv2DTranspose(128, (4, 4), strides=(2, 2), padding=\"same\"),\n",
        "        layers.LeakyReLU(alpha=0.2),\n",
        "        layers.Conv2DTranspose(128, (4, 4), strides=(2, 2), padding=\"same\"),\n",
        "        layers.LeakyReLU(alpha=0.2),\n",
        "        layers.Conv2D(1, (7, 7), padding=\"same\", activation=\"sigmoid\"),\n",
        "    ],\n",
        "    name=\"generator\",\n",
        ")"
      ]
    },
    {
      "cell_type": "markdown",
      "source": [
        "**ConditionalGAN model**"
      ],
      "metadata": {
        "id": "aWhJRCwl7aU7"
      }
    },
    {
      "cell_type": "code",
      "execution_count": 18,
      "metadata": {
        "id": "gkSb5oXN6Bfi"
      },
      "outputs": [],
      "source": [
        "class ConditionalGAN(keras.Model):\n",
        "    def __init__(self, discriminator, generator, latent_dim):\n",
        "        super(ConditionalGAN, self).__init__()\n",
        "        self.discriminator = discriminator\n",
        "        self.generator = generator\n",
        "        self.latent_dim = latent_dim\n",
        "        self.gen_loss_tracker = keras.metrics.Mean(name=\"generator_loss\")\n",
        "        self.disc_loss_tracker = keras.metrics.Mean(name=\"discriminator_loss\")\n",
        "\n",
        "    @property\n",
        "    def metrics(self):\n",
        "        return [self.gen_loss_tracker, self.disc_loss_tracker]\n",
        "\n",
        "    def compile(self, d_optimizer, g_optimizer, loss_fn):\n",
        "        super(ConditionalGAN, self).compile()\n",
        "        self.d_optimizer = d_optimizer\n",
        "        self.g_optimizer = g_optimizer\n",
        "        self.loss_fn = loss_fn\n",
        "\n",
        "    def train_step(self, data):\n",
        "        # Unpack the data.\n",
        "        real_images, one_hot_labels = data\n",
        "\n",
        "        # Add dummy dimensions to the labels so that they can be concatenated with\n",
        "        # the images. This is for the discriminator.\n",
        "        image_one_hot_labels = one_hot_labels[:, :, None, None]\n",
        "        image_one_hot_labels = tf.repeat(\n",
        "            image_one_hot_labels, repeats=[image_size * image_size]\n",
        "        )\n",
        "        image_one_hot_labels = tf.reshape(\n",
        "            image_one_hot_labels, (-1, image_size, image_size, num_classes)\n",
        "        )\n",
        "\n",
        "        # Sample random points in the latent space and concatenate the labels.\n",
        "        # This is for the generator.\n",
        "        batch_size = tf.shape(real_images)[0]\n",
        "        random_latent_vectors = tf.random.normal(shape=(batch_size, self.latent_dim))\n",
        "        random_vector_labels = tf.concat(\n",
        "            [random_latent_vectors, one_hot_labels], axis=1\n",
        "        )\n",
        "\n",
        "        # Decode the noise (guided by labels) to fake images.\n",
        "        generated_images = self.generator(random_vector_labels)\n",
        "\n",
        "        # Combine them with real images. Note that we are concatenating the labels\n",
        "        # with these images here.\n",
        "        fake_image_and_labels = tf.concat([generated_images, image_one_hot_labels], -1)\n",
        "        real_image_and_labels = tf.concat([real_images, image_one_hot_labels], -1)\n",
        "        combined_images = tf.concat(\n",
        "            [fake_image_and_labels, real_image_and_labels], axis=0\n",
        "        )\n",
        "\n",
        "        # Assemble labels discriminating real from fake images.\n",
        "        labels = tf.concat(\n",
        "            [tf.ones((batch_size, 1)), tf.zeros((batch_size, 1))], axis=0\n",
        "        )\n",
        "\n",
        "        # Train the discriminator.\n",
        "        with tf.GradientTape() as tape:\n",
        "            predictions = self.discriminator(combined_images)\n",
        "            d_loss = self.loss_fn(labels, predictions)\n",
        "        grads = tape.gradient(d_loss, self.discriminator.trainable_weights)\n",
        "        self.d_optimizer.apply_gradients(\n",
        "            zip(grads, self.discriminator.trainable_weights)\n",
        "        )\n",
        "\n",
        "        # Sample random points in the latent space.\n",
        "        random_latent_vectors = tf.random.normal(shape=(batch_size, self.latent_dim))\n",
        "        random_vector_labels = tf.concat(\n",
        "            [random_latent_vectors, one_hot_labels], axis=1\n",
        "        )\n",
        "\n",
        "        # Assemble labels that say \"all real images\".\n",
        "        misleading_labels = tf.zeros((batch_size, 1))\n",
        "\n",
        "        # Train the generator (note that we should *not* update the weights\n",
        "        # of the discriminator)!\n",
        "        with tf.GradientTape() as tape:\n",
        "            fake_images = self.generator(random_vector_labels)\n",
        "            fake_image_and_labels = tf.concat([fake_images, image_one_hot_labels], -1)\n",
        "            predictions = self.discriminator(fake_image_and_labels)\n",
        "            g_loss = self.loss_fn(misleading_labels, predictions)\n",
        "        grads = tape.gradient(g_loss, self.generator.trainable_weights)\n",
        "        self.g_optimizer.apply_gradients(zip(grads, self.generator.trainable_weights))\n",
        "\n",
        "        # Monitor loss.\n",
        "        self.gen_loss_tracker.update_state(g_loss)\n",
        "        self.disc_loss_tracker.update_state(d_loss)\n",
        "        return {\n",
        "            \"g_loss\": self.gen_loss_tracker.result(),\n",
        "            \"d_loss\": self.disc_loss_tracker.result(),\n",
        "        }"
      ]
    },
    {
      "cell_type": "markdown",
      "metadata": {
        "id": "tJ-0bKrM6tFO"
      },
      "source": [
        "Training the Conditional GAN Model"
      ]
    },
    {
      "cell_type": "code",
      "execution_count": 19,
      "metadata": {
        "colab": {
          "base_uri": "https://localhost:8080/"
        },
        "id": "-F5fot2h6JP8",
        "outputId": "05c821dc-0203-4ca7-ae1f-f7208931dc61"
      },
      "outputs": [
        {
          "output_type": "stream",
          "name": "stdout",
          "text": [
            "Epoch 1/20\n",
            "1094/1094 [==============================] - 36s 32ms/step - g_loss: 1.6240 - d_loss: 0.4084\n",
            "Epoch 2/20\n",
            "1094/1094 [==============================] - 37s 34ms/step - g_loss: 1.3006 - d_loss: 0.5066\n",
            "Epoch 3/20\n",
            "1094/1094 [==============================] - 36s 33ms/step - g_loss: 1.5838 - d_loss: 0.3911\n",
            "Epoch 4/20\n",
            "1094/1094 [==============================] - 35s 32ms/step - g_loss: 2.3073 - d_loss: 0.1970\n",
            "Epoch 5/20\n",
            "1094/1094 [==============================] - 36s 32ms/step - g_loss: 1.5485 - d_loss: 0.5495\n",
            "Epoch 6/20\n",
            "1094/1094 [==============================] - 35s 32ms/step - g_loss: 0.9619 - d_loss: 0.6380\n",
            "Epoch 7/20\n",
            "1094/1094 [==============================] - 35s 32ms/step - g_loss: 0.8774 - d_loss: 0.6541\n",
            "Epoch 8/20\n",
            "1094/1094 [==============================] - 35s 32ms/step - g_loss: 0.8160 - d_loss: 0.6639\n",
            "Epoch 9/20\n",
            "1094/1094 [==============================] - 35s 32ms/step - g_loss: 0.8555 - d_loss: 0.6600\n",
            "Epoch 10/20\n",
            "1094/1094 [==============================] - 35s 32ms/step - g_loss: 0.7958 - d_loss: 0.6719\n",
            "Epoch 11/20\n",
            "1094/1094 [==============================] - 35s 32ms/step - g_loss: 0.7765 - d_loss: 0.6804\n",
            "Epoch 12/20\n",
            "1094/1094 [==============================] - 35s 32ms/step - g_loss: 0.7728 - d_loss: 0.6822\n",
            "Epoch 13/20\n",
            "1094/1094 [==============================] - 35s 32ms/step - g_loss: 0.7625 - d_loss: 0.6794\n",
            "Epoch 14/20\n",
            "1094/1094 [==============================] - 35s 32ms/step - g_loss: 0.7666 - d_loss: 0.6763\n",
            "Epoch 15/20\n",
            "1094/1094 [==============================] - 35s 32ms/step - g_loss: 0.7538 - d_loss: 0.6783\n",
            "Epoch 16/20\n",
            "1094/1094 [==============================] - 35s 32ms/step - g_loss: 0.7723 - d_loss: 0.6715\n",
            "Epoch 17/20\n",
            "1094/1094 [==============================] - 35s 32ms/step - g_loss: 0.7750 - d_loss: 0.6661\n",
            "Epoch 18/20\n",
            "1094/1094 [==============================] - 35s 32ms/step - g_loss: 0.8025 - d_loss: 0.6515\n",
            "Epoch 19/20\n",
            "1094/1094 [==============================] - 35s 32ms/step - g_loss: 0.7944 - d_loss: 0.6542\n",
            "Epoch 20/20\n",
            "1094/1094 [==============================] - 35s 32ms/step - g_loss: 0.8069 - d_loss: 0.6443\n"
          ]
        },
        {
          "output_type": "execute_result",
          "data": {
            "text/plain": [
              "<keras.callbacks.History at 0x7f4b6a6ad220>"
            ]
          },
          "metadata": {},
          "execution_count": 19
        }
      ],
      "source": [
        "cond_gan = ConditionalGAN(\n",
        "    discriminator=discriminator, generator=generator, latent_dim=latent_dim\n",
        ")\n",
        "cond_gan.compile(\n",
        "    d_optimizer=keras.optimizers.Adam(learning_rate=0.0003),\n",
        "    g_optimizer=keras.optimizers.Adam(learning_rate=0.0003),\n",
        "    loss_fn=keras.losses.BinaryCrossentropy(from_logits=True),\n",
        ")\n",
        "\n",
        "cond_gan.fit(dataset, epochs=20)"
      ]
    },
    {
      "cell_type": "markdown",
      "metadata": {
        "id": "5seXdTRK6nCL"
      },
      "source": [
        "Interpolating between classes with the trained generator"
      ]
    },
    {
      "cell_type": "code",
      "execution_count": 20,
      "metadata": {
        "id": "00ojFKcD6YTY",
        "colab": {
          "base_uri": "https://localhost:8080/",
          "height": 70
        },
        "outputId": "df2f6223-9ae1-4a38-cf78-197e1eb51f98"
      },
      "outputs": [
        {
          "output_type": "stream",
          "name": "stdout",
          "text": [
            "1/1 [==============================] - 0s 267ms/step\n"
          ]
        },
        {
          "output_type": "execute_result",
          "data": {
            "text/plain": [
              "'Here, we first sample noise from a normal distribution and then we repeat \\nthat for num_interpolation times and reshape the result accordingly. \\nWe then distribute it uniformly for num_interpolation with the label\\nindentities being present in some proportion.\\n'"
            ],
            "application/vnd.google.colaboratory.intrinsic+json": {
              "type": "string"
            }
          },
          "metadata": {},
          "execution_count": 20
        }
      ],
      "source": [
        "# We first extract the trained generator from our Conditiona GAN.\n",
        "trained_gen = cond_gan.generator\n",
        "\n",
        "# Choose the number of intermediate images that would be generated in\n",
        "# between the interpolation + 2 (start and last images).\n",
        "num_interpolation = 9  # @param {type:\"integer\"}\n",
        "\n",
        "# Sample noise for the interpolation.\n",
        "interpolation_noise = tf.random.normal(shape=(1, latent_dim))\n",
        "interpolation_noise = tf.repeat(interpolation_noise, repeats=num_interpolation)\n",
        "interpolation_noise = tf.reshape(interpolation_noise, (num_interpolation, latent_dim))\n",
        "\n",
        "\n",
        "def interpolate_class(first_number, second_number):\n",
        "    # Convert the start and end labels to one-hot encoded vectors.\n",
        "    first_label = keras.utils.to_categorical([first_number], num_classes)\n",
        "    second_label = keras.utils.to_categorical([second_number], num_classes)\n",
        "    first_label = tf.cast(first_label, tf.float32)\n",
        "    second_label = tf.cast(second_label, tf.float32)\n",
        "\n",
        "    # Calculate the interpolation vector between the two labels.\n",
        "    percent_second_label = tf.linspace(0, 1, num_interpolation)[:, None]\n",
        "    percent_second_label = tf.cast(percent_second_label, tf.float32)\n",
        "    interpolation_labels = (\n",
        "        first_label * (1 - percent_second_label) + second_label * percent_second_label\n",
        "    )\n",
        "\n",
        "    # Combine the noise and the labels and run inference with the generator.\n",
        "    noise_and_labels = tf.concat([interpolation_noise, interpolation_labels], 1)\n",
        "    fake = trained_gen.predict(noise_and_labels)\n",
        "    return fake\n",
        "\n",
        "\n",
        "start_class = 1  # @param {type:\"slider\", min:0, max:9, step:1}\n",
        "end_class = 5  # @param {type:\"slider\", min:0, max:9, step:1}\n",
        "\n",
        "fake_images = interpolate_class(start_class, end_class)\n",
        "\n",
        "'''Here, we first sample noise from a normal distribution and then we repeat \n",
        "that for num_interpolation times and reshape the result accordingly. \n",
        "We then distribute it uniformly for num_interpolation with the label\n",
        "indentities being present in some proportion.\n",
        "'''"
      ]
    },
    {
      "cell_type": "markdown",
      "metadata": {
        "id": "cMvwhV9k6eXI"
      },
      "source": [
        "Output"
      ]
    },
    {
      "cell_type": "code",
      "execution_count": 21,
      "metadata": {
        "id": "UzJKhZ_k6aB5",
        "colab": {
          "base_uri": "https://localhost:8080/",
          "height": 118
        },
        "outputId": "2e354a09-baef-41bc-be94-2608072fd457"
      },
      "outputs": [
        {
          "output_type": "execute_result",
          "data": {
            "text/plain": [
              "<IPython.core.display.HTML object>"
            ],
            "text/html": [
              "<img src=\"data:image/gif;base64,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\"/>"
            ]
          },
          "metadata": {},
          "execution_count": 21
        }
      ],
      "source": [
        "fake_images *= 255.0\n",
        "converted_images = fake_images.astype(np.uint8)\n",
        "converted_images = tf.image.resize(converted_images, (96, 96)).numpy().astype(np.uint8)\n",
        "imageio.mimsave(\"animation.gif\", converted_images, fps=1)\n",
        "embed.embed_file(\"animation.gif\")"
      ]
    }
  ],
  "metadata": {
    "accelerator": "GPU",
    "colab": {
      "provenance": [],
      "mount_file_id": "1OOQ8aIVoxM_n5MchVu7oQ6jJZ_sJushX",
      "authorship_tag": "ABX9TyNfRZXxwV5VpRIN9K0eW43g"
    },
    "gpuClass": "standard",
    "kernelspec": {
      "display_name": "Python 3",
      "name": "python3"
    },
    "language_info": {
      "name": "python"
    }
  },
  "nbformat": 4,
  "nbformat_minor": 0
}